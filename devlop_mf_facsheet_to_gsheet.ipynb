{
 "cells": [
  {
   "cell_type": "code",
   "execution_count": 1,
   "metadata": {},
   "outputs": [
    {
     "name": "stdout",
     "output_type": "stream",
     "text": [
      "Processed file: G:\\Fund_analysis\\Raw_data\\MF_Commodity_1.csv\n",
      "Processed file: G:\\Fund_analysis\\Raw_data\\MF_Debt_1.csv\n",
      "Processed file: G:\\Fund_analysis\\Raw_data\\MF_Equity_1.csv\n",
      "Processed file: G:\\Fund_analysis\\Raw_data\\MF_Hybrid_1.csv\n",
      "Combined DataFrame 1: Length = 1461\n",
      "Processed file: G:\\Fund_analysis\\Raw_data\\MF_Commodity_2.csv\n",
      "Processed file: G:\\Fund_analysis\\Raw_data\\MF_Debt_2.csv\n",
      "Processed file: G:\\Fund_analysis\\Raw_data\\MF_Equity_2.csv\n",
      "Processed file: G:\\Fund_analysis\\Raw_data\\MF_Hybrid_2.csv\n",
      "Combined DataFrame 2: Length = 1461\n",
      "Processed file: G:\\Fund_analysis\\Raw_data\\MF_Commodity_3.csv\n",
      "Processed file: G:\\Fund_analysis\\Raw_data\\MF_Debt_3.csv\n",
      "Processed file: G:\\Fund_analysis\\Raw_data\\MF_Equity_3.csv\n",
      "Processed file: G:\\Fund_analysis\\Raw_data\\MF_Hybrid_3.csv\n",
      "Combined DataFrame 3: Length = 1461\n",
      "Added 'Diff Volatility Cat' Columns............\n"
     ]
    }
   ],
   "source": [
    "import pandas as pd\n",
    "import numpy as np\n",
    "import glob\n",
    "import os\n",
    "import gspread\n",
    "from gspread_dataframe import get_as_dataframe, set_with_dataframe\n",
    "from oauth2client.service_account import ServiceAccountCredentials\n",
    "\n",
    "folder_path = r'G:\\Fund_analysis\\Raw_data'\n",
    "csv_files = glob.glob(os.path.join(folder_path, '*.csv'))\n",
    "\n",
    "def process_files(files, identifier):\n",
    "    dataframes_list = []\n",
    "    \n",
    "    for file in files:\n",
    "        df = pd.read_csv(file)\n",
    "\n",
    "        if 'Debt' in file:\n",
    "            df['Fund Type'] = 'Debt'\n",
    "        elif 'Equity' in file:\n",
    "            df['Fund Type'] = 'Equity'\n",
    "        elif 'Hybrid' in file:\n",
    "            df['Fund Type'] = 'Hybrid'\n",
    "        elif 'Commodity' in file:\n",
    "            df['Fund Type'] = 'Commodity'\n",
    "        else:\n",
    "            pass\n",
    "\n",
    "        print(f\"Processed file: {file}\")\n",
    "        dataframes_list.append(df)\n",
    "\n",
    "    if dataframes_list:\n",
    "        combined_df = pd.concat(dataframes_list, ignore_index=True)\n",
    "        print(f\"Combined DataFrame {identifier}: Length = {len(combined_df)}\")\n",
    "        return combined_df\n",
    "    else:\n",
    "        print(f\"No files with '{identifier}' in the name were found.\")\n",
    "        return None\n",
    "\n",
    "def add_deviation_volatility(data):\n",
    "    data['Diff Volatility Caty'] = data['Volatility'] - data['Category St Dev']\n",
    "    print(\"Added 'Diff Volatility Cat' Columns............\")\n",
    "\n",
    "    return data\n",
    "\n",
    "files_with_one = [file for file in csv_files if '1' in file]\n",
    "files_with_two = [file for file in csv_files if '2' in file]\n",
    "files_with_three = [file for file in csv_files if '3' in file]\n",
    "\n",
    "df_1 = process_files(files_with_one, '1')\n",
    "df_2 = process_files(files_with_two, '2')\n",
    "df_3 = process_files(files_with_three, '3')\n",
    "\n",
    "if df_1 is not None and df_2 is not None and df_3 is not None:\n",
    "    combined_df = pd.merge(df_1, df_2, on=df_1.columns[0], how='outer')\n",
    "    combined_df = pd.merge(combined_df, df_3, on=combined_df.columns[0], how='outer')\n",
    "\n",
    "    # Drop columns with '_x' and '_y' suffixes, but keep the original column\n",
    "    columns_to_drop = [col for col in combined_df.columns if col.endswith('_x') or col.endswith('_y')]\n",
    "    combined_df.drop(columns=columns_to_drop, inplace=True)\n",
    "\n",
    "    # Exclude any columns that contain '%Other%' in their name\n",
    "    columns_to_keep = [col for col in combined_df.columns if 'Other' not in col]\n",
    "    combined_df = combined_df[columns_to_keep]\n",
    "\n",
    "   # Replace 0 with NaN\n",
    "    combined_df.replace(0, np.nan, inplace=True)\n",
    "\n",
    "    # Format float columns to 3 decimal places, except 'Expense Ratio'\n",
    "    float_cols = combined_df.select_dtypes(include='float64').columns\n",
    "    for col in float_cols:\n",
    "        if col != 'Expense Ratio':\n",
    "            combined_df[col] = combined_df[col].round(3)\n",
    "\n",
    "combined_df = add_deviation_volatility(combined_df)\n",
    "print(\"Dataframe combined\")"
   ]
  },
  {
   "cell_type": "code",
   "execution_count": 2,
   "metadata": {},
   "outputs": [],
   "source": [
    "\n",
    "# Define the scope for Google Sheets and Drive APIs\n",
    "scope = ['https://www.googleapis.com/auth/spreadsheets', 'https://www.googleapis.com/auth/drive']\n",
    "cred_path = r'G:\\Fund_analysis_cred\\cred_file.json'\n",
    "\n",
    "creds = ServiceAccountCredentials.from_json_keyfile_name(cred_path, scope)\n",
    "client = gspread.authorize(creds)\n",
    "\n",
    "spreadsheet_id = '15Tx7fwzYAQLlXEz8nr3zcSuIWT1gn0GnhjmzCnpW5PE'\n",
    "spreadsheet = client.open_by_key(spreadsheet_id) \n",
    "\n",
    "worksheet = spreadsheet.get_worksheet(0)\n",
    "worksheet.clear()\n",
    "\n",
    "set_with_dataframe(worksheet, combined_df)"
   ]
  },
  {
   "cell_type": "code",
   "execution_count": 3,
   "metadata": {},
   "outputs": [
    {
     "data": {
      "text/plain": [
       "Index(['Name', 'Expense Ratio', 'Absolute Returns - 3M',\n",
       "       'Absolute Returns - 6M', 'Absolute Returns - 1Y', 'CAGR 3Y', 'CAGR 5Y',\n",
       "       'CAGR 10Y', 'Alpha', 'Volatility', 'Category St Dev',\n",
       "       'SEBI Risk Category', '% Debt Holding', '% Equity Holding',\n",
       "       '% Largecap Holding', '% Midcap Holding', '% Smallcap Holding',\n",
       "       'PE Ratio', 'Category PE Ratio', 'Sharpe Ratio', 'Sortino Ratio',\n",
       "       'Sub Category', 'Plan', 'AUM', 'Time since inception', 'Benchmark',\n",
       "       'Exit Load', 'Lock-in', 'Minimum Lumpsum', 'Minimum SIP', 'NAV',\n",
       "       'Fund Type', 'Diff Volatility Caty'],\n",
       "      dtype='object')"
      ]
     },
     "execution_count": 3,
     "metadata": {},
     "output_type": "execute_result"
    }
   ],
   "source": [
    "combined_df.columns"
   ]
  },
  {
   "cell_type": "code",
   "execution_count": null,
   "metadata": {},
   "outputs": [],
   "source": []
  }
 ],
 "metadata": {
  "kernelspec": {
   "display_name": ".venv",
   "language": "python",
   "name": "python3"
  },
  "language_info": {
   "codemirror_mode": {
    "name": "ipython",
    "version": 3
   },
   "file_extension": ".py",
   "mimetype": "text/x-python",
   "name": "python",
   "nbconvert_exporter": "python",
   "pygments_lexer": "ipython3",
   "version": "3.12.6"
  }
 },
 "nbformat": 4,
 "nbformat_minor": 2
}
